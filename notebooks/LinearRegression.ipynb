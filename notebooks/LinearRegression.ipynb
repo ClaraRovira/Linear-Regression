{
 "cells": [
  {
   "cell_type": "code",
   "execution_count": 1,
   "metadata": {},
   "outputs": [],
   "source": [
    "# Importing Libraries\n",
    "import pandas as pd\n",
    "import matplotlib.pyplot as plt\n",
    "from sklearn.linear_model import LinearRegression\n",
    "from sklearn.metrics import mean_squared_error\n",
    "import seaborn as sns \n",
    "import matplotlib.pyplot as plt \n",
    "sns.set(color_codes=True)"
   ]
  },
  {
   "cell_type": "markdown",
   "metadata": {},
   "source": [
    "### Task 1: Exploratory Analysis"
   ]
  },
  {
   "cell_type": "code",
   "execution_count": 2,
   "metadata": {},
   "outputs": [
    {
     "data": {
      "text/html": [
       "<div>\n",
       "<style scoped>\n",
       "    .dataframe tbody tr th:only-of-type {\n",
       "        vertical-align: middle;\n",
       "    }\n",
       "\n",
       "    .dataframe tbody tr th {\n",
       "        vertical-align: top;\n",
       "    }\n",
       "\n",
       "    .dataframe thead th {\n",
       "        text-align: right;\n",
       "    }\n",
       "</style>\n",
       "<table border=\"1\" class=\"dataframe\">\n",
       "  <thead>\n",
       "    <tr style=\"text-align: right;\">\n",
       "      <th></th>\n",
       "      <th>feature1</th>\n",
       "      <th>feature2</th>\n",
       "      <th>feature3</th>\n",
       "      <th>feature4</th>\n",
       "      <th>target</th>\n",
       "    </tr>\n",
       "  </thead>\n",
       "  <tbody>\n",
       "    <tr>\n",
       "      <th>0</th>\n",
       "      <td>0.885598</td>\n",
       "      <td>-0.058136</td>\n",
       "      <td>-0.502394</td>\n",
       "      <td>-0.072880</td>\n",
       "      <td>4.999557</td>\n",
       "    </tr>\n",
       "    <tr>\n",
       "      <th>1</th>\n",
       "      <td>1.391696</td>\n",
       "      <td>0.350938</td>\n",
       "      <td>0.311445</td>\n",
       "      <td>-0.780685</td>\n",
       "      <td>56.613234</td>\n",
       "    </tr>\n",
       "    <tr>\n",
       "      <th>2</th>\n",
       "      <td>-0.599735</td>\n",
       "      <td>-0.072272</td>\n",
       "      <td>1.541158</td>\n",
       "      <td>-0.384914</td>\n",
       "      <td>43.374539</td>\n",
       "    </tr>\n",
       "    <tr>\n",
       "      <th>3</th>\n",
       "      <td>1.108150</td>\n",
       "      <td>1.924439</td>\n",
       "      <td>-0.068485</td>\n",
       "      <td>1.985521</td>\n",
       "      <td>50.226308</td>\n",
       "    </tr>\n",
       "    <tr>\n",
       "      <th>4</th>\n",
       "      <td>-0.724598</td>\n",
       "      <td>-1.485027</td>\n",
       "      <td>-1.755203</td>\n",
       "      <td>-0.254649</td>\n",
       "      <td>-107.187888</td>\n",
       "    </tr>\n",
       "  </tbody>\n",
       "</table>\n",
       "</div>"
      ],
      "text/plain": [
       "   feature1  feature2  feature3  feature4      target\n",
       "0  0.885598 -0.058136 -0.502394 -0.072880    4.999557\n",
       "1  1.391696  0.350938  0.311445 -0.780685   56.613234\n",
       "2 -0.599735 -0.072272  1.541158 -0.384914   43.374539\n",
       "3  1.108150  1.924439 -0.068485  1.985521   50.226308\n",
       "4 -0.724598 -1.485027 -1.755203 -0.254649 -107.187888"
      ]
     },
     "execution_count": 2,
     "metadata": {},
     "output_type": "execute_result"
    }
   ],
   "source": [
    "# Reading data\n",
    "data = pd.read_csv('../Data/j0001_train.csv')\n",
    "data.head()"
   ]
  },
  {
   "cell_type": "code",
   "execution_count": 3,
   "metadata": {},
   "outputs": [
    {
     "name": "stdout",
     "output_type": "stream",
     "text": [
      "Number of Rows: 2100\n",
      "Number of Columns: 5\n"
     ]
    }
   ],
   "source": [
    "# Checking dimensions of the dataset\n",
    "print('Number of Rows:', data.shape[0])\n",
    "print('Number of Columns:', data.shape[1])"
   ]
  },
  {
   "cell_type": "code",
   "execution_count": 4,
   "metadata": {},
   "outputs": [
    {
     "name": "stdout",
     "output_type": "stream",
     "text": [
      "Data types:\n",
      "feature1 Column: float64\n",
      "feature2 Column: float64\n",
      "feature3 Column: float64\n",
      "feature4 Column: float64\n"
     ]
    }
   ],
   "source": [
    "# Checking data types\n",
    "data_types = data.dtypes\n",
    "print('Data types:')\n",
    "print('feature1 Column:', data_types[0])\n",
    "print('feature2 Column:', data_types[1])\n",
    "print('feature3 Column:', data_types[2])\n",
    "print('feature4 Column:', data_types[3])"
   ]
  },
  {
   "cell_type": "code",
   "execution_count": 5,
   "metadata": {},
   "outputs": [
    {
     "name": "stdout",
     "output_type": "stream",
     "text": [
      "Number of duplicated rows: 0\n"
     ]
    }
   ],
   "source": [
    "# Checking number of duplicated rows\n",
    "duplicated_rows = data[data.duplicated()] \n",
    "print('Number of duplicated rows:', duplicated_rows.shape[0])"
   ]
  },
  {
   "cell_type": "code",
   "execution_count": 6,
   "metadata": {},
   "outputs": [
    {
     "data": {
      "text/html": [
       "<div>\n",
       "<style scoped>\n",
       "    .dataframe tbody tr th:only-of-type {\n",
       "        vertical-align: middle;\n",
       "    }\n",
       "\n",
       "    .dataframe tbody tr th {\n",
       "        vertical-align: top;\n",
       "    }\n",
       "\n",
       "    .dataframe thead th {\n",
       "        text-align: right;\n",
       "    }\n",
       "</style>\n",
       "<table border=\"1\" class=\"dataframe\">\n",
       "  <thead>\n",
       "    <tr style=\"text-align: right;\">\n",
       "      <th></th>\n",
       "      <th>Column Name</th>\n",
       "      <th>Null Values</th>\n",
       "      <th>NAs</th>\n",
       "    </tr>\n",
       "  </thead>\n",
       "  <tbody>\n",
       "    <tr>\n",
       "      <th>0</th>\n",
       "      <td>feature1</td>\n",
       "      <td>0</td>\n",
       "      <td>0</td>\n",
       "    </tr>\n",
       "    <tr>\n",
       "      <th>1</th>\n",
       "      <td>feature2</td>\n",
       "      <td>0</td>\n",
       "      <td>0</td>\n",
       "    </tr>\n",
       "    <tr>\n",
       "      <th>2</th>\n",
       "      <td>feature3</td>\n",
       "      <td>0</td>\n",
       "      <td>0</td>\n",
       "    </tr>\n",
       "    <tr>\n",
       "      <th>3</th>\n",
       "      <td>feature4</td>\n",
       "      <td>0</td>\n",
       "      <td>0</td>\n",
       "    </tr>\n",
       "    <tr>\n",
       "      <th>4</th>\n",
       "      <td>target</td>\n",
       "      <td>0</td>\n",
       "      <td>0</td>\n",
       "    </tr>\n",
       "  </tbody>\n",
       "</table>\n",
       "</div>"
      ],
      "text/plain": [
       "  Column Name Null Values NAs\n",
       "0    feature1           0   0\n",
       "1    feature2           0   0\n",
       "2    feature3           0   0\n",
       "3    feature4           0   0\n",
       "4      target           0   0"
      ]
     },
     "execution_count": 6,
     "metadata": {},
     "output_type": "execute_result"
    }
   ],
   "source": [
    "# Checking number of NAs and null values \n",
    "columns = data.columns\n",
    "table = pd.DataFrame(columns=['Column Name', 'Null Values', 'NAs'], index=[0,1,2,3,4])\n",
    "for i in range (len(columns)):\n",
    "    NAs = pd.isna(data[columns[i]]).sum()\n",
    "    NVs = pd.isnull(data[columns[i]]).sum()\n",
    "    table.iloc[i] = [columns[i], NAs, NVs]\n",
    "table"
   ]
  },
  {
   "cell_type": "code",
   "execution_count": 7,
   "metadata": {},
   "outputs": [
    {
     "data": {
      "image/png": "[encoded data removed]",
      "text/plain": [
       "<Figure size 432x288 with 1 Axes>"
      ]
     },
     "metadata": {},
     "output_type": "display_data"
    }
   ],
   "source": [
    "# Checking outliers\n",
    "ax = sns.boxplot(data=data)"
   ]
  },
  {
   "cell_type": "markdown",
   "metadata": {},
   "source": [
    "By checking the boxplot of each variable, I observed that the target column has some outliers. For this reason I print its boxplot separately to see better the outliers."
   ]
  },
  {
   "cell_type": "code",
   "execution_count": 8,
   "metadata": {},
   "outputs": [
    {
     "data": {
      "text/plain": [
       "<AxesSubplot:xlabel='target'>"
      ]
     },
     "execution_count": 8,
     "metadata": {},
     "output_type": "execute_result"
    },
    {
     "data": {
      "image/png": "[encoded data removed]",
      "text/plain": [
       "<Figure size 432x288 with 1 Axes>"
      ]
     },
     "metadata": {},
     "output_type": "display_data"
    }
   ],
   "source": [
    "sns.boxplot(x=data['target'])"
   ]
  },
  {
   "cell_type": "code",
   "execution_count": 9,
   "metadata": {},
   "outputs": [
    {
     "data": {
      "text/plain": [
       "<AxesSubplot:>"
      ]
     },
     "execution_count": 9,
     "metadata": {},
     "output_type": "execute_result"
    },
    {
     "data": {
      "image/png": "[encoded data removed]",
      "text/plain": [
       "<Figure size 360x360 with 2 Axes>"
      ]
     },
     "metadata": {},
     "output_type": "display_data"
    }
   ],
   "source": [
    "# Checking correlations among the variables\n",
    "plt.figure(figsize=(5,5))\n",
    "correlations = data.corr()\n",
    "sns.heatmap(correlations,cmap=\"BrBG\",annot=True)"
   ]
  },
  {
   "cell_type": "markdown",
   "metadata": {},
   "source": [
    "### Task 2: Modelling"
   ]
  },
  {
   "cell_type": "markdown",
   "metadata": {},
   "source": [
    "To choose the best model, it is necessary to compare different models by testing them with a validate dataset. In this case, we only have the 'j0001_train.csv' dataset. For this reason, I will split the dataset into train and valid data."
   ]
  },
  {
   "cell_type": "code",
   "execution_count": 10,
   "metadata": {},
   "outputs": [
    {
     "name": "stdout",
     "output_type": "stream",
     "text": [
      "1470\n"
     ]
    }
   ],
   "source": [
    "# 70% to train, 30% to validate\n",
    "train_split = int(2100*0.7)\n",
    "print(train_split)"
   ]
  },
  {
   "cell_type": "code",
   "execution_count": 11,
   "metadata": {},
   "outputs": [
    {
     "name": "stdout",
     "output_type": "stream",
     "text": [
      "Train dataset dimensions: (1470, 4) (1470,)\n",
      "Valid dataset dimensions: (630, 4) (630,)\n"
     ]
    }
   ],
   "source": [
    "x_train = data[['feature1', 'feature2', 'feature3', 'feature4']][0:int(train_split)]\n",
    "y_train = data['target'][0:int(train_split)]\n",
    "\n",
    "x_valid = data[['feature1', 'feature2', 'feature3', 'feature4']][int(train_split):]\n",
    "y_valid = data['target'][int(train_split):]\n",
    "y_valid.index = pd.RangeIndex(start=0, stop=630, step=1)\n",
    "\n",
    "print('Train dataset dimensions:', x_train.shape, y_train.shape)\n",
    "print('Valid dataset dimensions:', x_valid.shape, y_valid.shape)\n"
   ]
  },
  {
   "cell_type": "markdown",
   "metadata": {},
   "source": [
    "#### Linear Regression Model"
   ]
  },
  {
   "cell_type": "code",
   "execution_count": 12,
   "metadata": {},
   "outputs": [],
   "source": [
    "# Creating Linear Regression Model\n",
    "model_lr = LinearRegression().fit(x_train,y_train)"
   ]
  },
  {
   "cell_type": "code",
   "execution_count": 13,
   "metadata": {},
   "outputs": [],
   "source": [
    "# Validating Linear Regression Model\n",
    "y_pred_lr = model_lr.predict(x_valid)"
   ]
  },
  {
   "cell_type": "code",
   "execution_count": 14,
   "metadata": {},
   "outputs": [
    {
     "data": {
      "text/plain": [
       "<matplotlib.legend.Legend at 0x12267e340>"
      ]
     },
     "execution_count": 14,
     "metadata": {},
     "output_type": "execute_result"
    },
    {
     "data": {
      "image/png": "[encoded data removed]",
      "text/plain": [
       "<Figure size 432x288 with 1 Axes>"
      ]
     },
     "metadata": {},
     "output_type": "display_data"
    }
   ],
   "source": [
    "# Comparing the predictions and the real values by plotting them\n",
    "plt.title('Predict vs Real target values')\n",
    "plt.plot(y_pred_lr)\n",
    "plt.plot(y_valid)\n",
    "plt.legend(labels=['predicted', 'real'])"
   ]
  },
  {
   "cell_type": "code",
   "execution_count": 15,
   "metadata": {},
   "outputs": [
    {
     "data": {
      "text/plain": [
       "4.0267213781387306e-28"
      ]
     },
     "execution_count": 15,
     "metadata": {},
     "output_type": "execute_result"
    }
   ],
   "source": [
    "# Check error\n",
    "mean_squared_error(y_pred_lr, y_valid)"
   ]
  },
  {
   "cell_type": "markdown",
   "metadata": {},
   "source": [
    "As can be observed from the results, the Linear Regression model predicts the validation dataset very accurately as the error is almost 0. Moreover, it can be seen from the plot printed above, that real and predicted values matched pretty well. In case the results weren't the expected I should have try other models and compare them."
   ]
  },
  {
   "cell_type": "markdown",
   "metadata": {},
   "source": [
    "### Predicting with the X_test values provided"
   ]
  },
  {
   "cell_type": "code",
   "execution_count": 16,
   "metadata": {},
   "outputs": [],
   "source": [
    "# Reading X_test data\n",
    "x_test = pd.read_csv('../Data/j0001_X_test.csv')"
   ]
  },
  {
   "cell_type": "code",
   "execution_count": 17,
   "metadata": {},
   "outputs": [],
   "source": [
    "# Predicting with X_test data\n",
    "y_test_pred = model_lr.predict(x_test)"
   ]
  },
  {
   "cell_type": "code",
   "execution_count": 18,
   "metadata": {},
   "outputs": [],
   "source": [
    "y_test_pred = pd.DataFrame(y_test_pred, columns = ['target'])"
   ]
  },
  {
   "cell_type": "code",
   "execution_count": 19,
   "metadata": {},
   "outputs": [],
   "source": [
    "y_test_pred.to_csv('../Data/results.csv')"
   ]
  }
 ],
 "metadata": {
  "interpreter": {
   "hash": "31f2aee4e71d21fbe5cf8b01ff0e069b9275f58929596ceb00d14d90e3e16cd6"
  },
  "kernelspec": {
   "display_name": "Python 3.8.2 64-bit",
   "language": "python",
   "name": "python3"
  },
  "language_info": {
   "codemirror_mode": {
    "name": "ipython",
    "version": 3
   },
   "file_extension": ".py",
   "mimetype": "text/x-python",
   "name": "python",
   "nbconvert_exporter": "python",
   "pygments_lexer": "ipython3",
   "version": "3.8.2"
  },
  "orig_nbformat": 4
 },
 "nbformat": 4,
 "nbformat_minor": 2
}
